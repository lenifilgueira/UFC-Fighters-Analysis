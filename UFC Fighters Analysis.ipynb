{
 "cells": [
  {
   "cell_type": "code",
   "execution_count": 10,
   "metadata": {},
   "outputs": [],
   "source": [
    "# Import libraries and set initial configurations\n",
    "import pandas as pd\n",
    "import matplotlib.pyplot as plt\n",
    "import seaborn as sns\n",
    "\n",
    "from scipy import stats\n",
    "from IPython.display import display\n",
    "\n",
    "pd.set_option('display.max_rows', None)\n",
    "pd.set_option('display.max_columns', None)"
   ]
  },
  {
   "cell_type": "code",
   "execution_count": 2,
   "metadata": {},
   "outputs": [],
   "source": [
    "# Read the CSV file\n",
    "df = pd.read_csv('ufc-fighters-statistics.csv')"
   ]
  },
  {
   "cell_type": "code",
   "execution_count": 50,
   "metadata": {},
   "outputs": [],
   "source": [
    "# Data cleaning\n",
    "df[['wins', 'losses', 'draws']] = df[['wins', 'losses', 'draws']].fillna(0)"
   ]
  },
  {
   "cell_type": "markdown",
   "metadata": {},
   "source": [
    "# Win-Loss Distribution Analysis\n",
    "### Win percentages \n",
    "\n"
   ]
  },
  {
   "cell_type": "code",
   "execution_count": 51,
   "metadata": {},
   "outputs": [
    {
     "data": {
      "text/html": [
       "<div>\n",
       "<style scoped>\n",
       "    .dataframe tbody tr th:only-of-type {\n",
       "        vertical-align: middle;\n",
       "    }\n",
       "\n",
       "    .dataframe tbody tr th {\n",
       "        vertical-align: top;\n",
       "    }\n",
       "\n",
       "    .dataframe thead th {\n",
       "        text-align: right;\n",
       "    }\n",
       "</style>\n",
       "<table border=\"1\" class=\"dataframe\">\n",
       "  <thead>\n",
       "    <tr style=\"text-align: right;\">\n",
       "      <th></th>\n",
       "      <th>Name</th>\n",
       "      <th>Winning %</th>\n",
       "    </tr>\n",
       "  </thead>\n",
       "  <tbody>\n",
       "    <tr>\n",
       "      <th>0</th>\n",
       "      <td>Rex Richards</td>\n",
       "      <td>77.78</td>\n",
       "    </tr>\n",
       "    <tr>\n",
       "      <th>1</th>\n",
       "      <td>Luana Santos</td>\n",
       "      <td>85.71</td>\n",
       "    </tr>\n",
       "    <tr>\n",
       "      <th>2</th>\n",
       "      <td>Cortavious Romious</td>\n",
       "      <td>77.78</td>\n",
       "    </tr>\n",
       "    <tr>\n",
       "      <th>3</th>\n",
       "      <td>Danny Silva</td>\n",
       "      <td>88.89</td>\n",
       "    </tr>\n",
       "    <tr>\n",
       "      <th>4</th>\n",
       "      <td>Angel Pacheco</td>\n",
       "      <td>77.78</td>\n",
       "    </tr>\n",
       "    <tr>\n",
       "      <th>5</th>\n",
       "      <td>Charalampos Grigoriou</td>\n",
       "      <td>72.73</td>\n",
       "    </tr>\n",
       "    <tr>\n",
       "      <th>6</th>\n",
       "      <td>JR Coughran</td>\n",
       "      <td>80.00</td>\n",
       "    </tr>\n",
       "    <tr>\n",
       "      <th>7</th>\n",
       "      <td>Ernesta Kareckaite</td>\n",
       "      <td>83.33</td>\n",
       "    </tr>\n",
       "    <tr>\n",
       "      <th>8</th>\n",
       "      <td>Danny Barlow</td>\n",
       "      <td>100.00</td>\n",
       "    </tr>\n",
       "    <tr>\n",
       "      <th>9</th>\n",
       "      <td>Kim Couture</td>\n",
       "      <td>27.27</td>\n",
       "    </tr>\n",
       "    <tr>\n",
       "      <th>10</th>\n",
       "      <td>Ramazan Kuramagomedov</td>\n",
       "      <td>100.00</td>\n",
       "    </tr>\n",
       "    <tr>\n",
       "      <th>11</th>\n",
       "      <td>Bolaji Oki</td>\n",
       "      <td>88.89</td>\n",
       "    </tr>\n",
       "    <tr>\n",
       "      <th>12</th>\n",
       "      <td>Carli Judice</td>\n",
       "      <td>75.00</td>\n",
       "    </tr>\n",
       "    <tr>\n",
       "      <th>13</th>\n",
       "      <td>Charlie Campbell</td>\n",
       "      <td>80.00</td>\n",
       "    </tr>\n",
       "    <tr>\n",
       "      <th>14</th>\n",
       "      <td>Taiyilake Nueraji</td>\n",
       "      <td>90.00</td>\n",
       "    </tr>\n",
       "    <tr>\n",
       "      <th>15</th>\n",
       "      <td>Dennis Bryant</td>\n",
       "      <td>71.43</td>\n",
       "    </tr>\n",
       "    <tr>\n",
       "      <th>16</th>\n",
       "      <td>Pete Rodriguez</td>\n",
       "      <td>83.33</td>\n",
       "    </tr>\n",
       "    <tr>\n",
       "      <th>17</th>\n",
       "      <td>Billy Goff</td>\n",
       "      <td>81.82</td>\n",
       "    </tr>\n",
       "    <tr>\n",
       "      <th>18</th>\n",
       "      <td>Abdul-Kerim Edilov</td>\n",
       "      <td>80.95</td>\n",
       "    </tr>\n",
       "    <tr>\n",
       "      <th>19</th>\n",
       "      <td>Waachiim Spiritwolf</td>\n",
       "      <td>46.15</td>\n",
       "    </tr>\n",
       "  </tbody>\n",
       "</table>\n",
       "</div>"
      ],
      "text/plain": [
       "                     Name  Winning %\n",
       "0            Rex Richards      77.78\n",
       "1            Luana Santos      85.71\n",
       "2      Cortavious Romious      77.78\n",
       "3             Danny Silva      88.89\n",
       "4           Angel Pacheco      77.78\n",
       "5   Charalampos Grigoriou      72.73\n",
       "6             JR Coughran      80.00\n",
       "7      Ernesta Kareckaite      83.33\n",
       "8            Danny Barlow     100.00\n",
       "9             Kim Couture      27.27\n",
       "10  Ramazan Kuramagomedov     100.00\n",
       "11             Bolaji Oki      88.89\n",
       "12           Carli Judice      75.00\n",
       "13       Charlie Campbell      80.00\n",
       "14      Taiyilake Nueraji      90.00\n",
       "15          Dennis Bryant      71.43\n",
       "16         Pete Rodriguez      83.33\n",
       "17             Billy Goff      81.82\n",
       "18     Abdul-Kerim Edilov      80.95\n",
       "19    Waachiim Spiritwolf      46.15"
      ]
     },
     "execution_count": 51,
     "metadata": {},
     "output_type": "execute_result"
    }
   ],
   "source": [
    "\n",
    "# Calculate winning % and round to 2 decimals\n",
    "fighter_win_percentage = round(df.wins/(df.wins+df.losses+df.draws)*100, 2) \n",
    "\n",
    "# Handle divide-by-zero (fighters with blank records)\n",
    "no_record_mask = (df.wins == 0) & (df.losses == 0) & (df.draws == 0)\n",
    "fighter_win_percentage[no_record_mask] = 0\n",
    "\n",
    "# Concatenate names and winning % in the df\n",
    "fighter_win_percentage_df = pd.concat([df.name, fighter_win_percentage], axis=1) \n",
    "fighter_win_percentage_df.columns = ['Name', 'Winning %']\n",
    "\n",
    "# Dataframe showing winning % of first 20 fighters in the dataset\n",
    "fighter_win_percentage_df.head(20) \n"
   ]
  },
  {
   "cell_type": "markdown",
   "metadata": {},
   "source": [
    "### Spread, Standard Deviation and Mean Winning Percentages"
   ]
  },
  {
   "cell_type": "code",
   "execution_count": 52,
   "metadata": {},
   "outputs": [
    {
     "data": {
      "text/html": [
       "<div>\n",
       "<style scoped>\n",
       "    .dataframe tbody tr th:only-of-type {\n",
       "        vertical-align: middle;\n",
       "    }\n",
       "\n",
       "    .dataframe tbody tr th {\n",
       "        vertical-align: top;\n",
       "    }\n",
       "\n",
       "    .dataframe thead th {\n",
       "        text-align: right;\n",
       "    }\n",
       "</style>\n",
       "<table border=\"1\" class=\"dataframe\">\n",
       "  <thead>\n",
       "    <tr style=\"text-align: right;\">\n",
       "      <th></th>\n",
       "      <th>Spread</th>\n",
       "      <th>Standard Deviation</th>\n",
       "      <th>Mean</th>\n",
       "    </tr>\n",
       "  </thead>\n",
       "  <tbody>\n",
       "    <tr>\n",
       "      <th>0</th>\n",
       "      <td>100.0</td>\n",
       "      <td>20.0</td>\n",
       "      <td>65.8</td>\n",
       "    </tr>\n",
       "  </tbody>\n",
       "</table>\n",
       "</div>"
      ],
      "text/plain": [
       "   Spread  Standard Deviation  Mean\n",
       "0   100.0                20.0  65.8"
      ]
     },
     "execution_count": 52,
     "metadata": {},
     "output_type": "execute_result"
    }
   ],
   "source": [
    "# Calculating stats, then loading into a dataframe\n",
    "win_percentage_spread = fighter_win_percentage.max() - fighter_win_percentage.min()\n",
    "win_percentage_std = round(fighter_win_percentage.std(), 1)\n",
    "win_percentage_mean = round(fighter_win_percentage.mean(), 1)\n",
    "\n",
    "win_percentage_statistics = {\n",
    "    'Spread': [win_percentage_spread],\n",
    "    'Standard Deviation': [win_percentage_std],\n",
    "    'Mean': [win_percentage_mean]\n",
    "}\n",
    "win_percentage_statistics = pd.DataFrame(win_percentage_statistics)\n",
    "\n",
    "\n",
    "win_percentage_statistics"
   ]
  },
  {
   "cell_type": "markdown",
   "metadata": {},
   "source": [
    "### Win & Loss distribution"
   ]
  },
  {
   "cell_type": "code",
   "execution_count": 17,
   "metadata": {},
   "outputs": [
    {
     "data": {
      "image/png": "[encoded data removed]",
      "text/plain": [
       "<Figure size 1000x600 with 2 Axes>"
      ]
     },
     "metadata": {},
     "output_type": "display_data"
    }
   ],
   "source": [
    "# Plotting histograms for wins and losses\n",
    "plt.figure(figsize=(10, 6))\n",
    "\n",
    "plt.subplot(1, 2, 1)\n",
    "plt.hist(df['wins'], bins=len(df.wins), color='blue', edgecolor='black')\n",
    "plt.title('Distribution of Wins')\n",
    "plt.xlabel('Wins')\n",
    "plt.ylabel('Frequency')\n",
    "plt.xlim(0, 60)\n",
    "\n",
    "plt.subplot(1, 2, 2)\n",
    "plt.hist(df['losses'], bins=len(df.losses), color='red', edgecolor='black')\n",
    "plt.title('Distribution of Losses')\n",
    "plt.xlabel('Losses')\n",
    "plt.ylabel('Frequency')\n",
    "plt.xlim(0, 30)\n",
    "\n",
    "plt.tight_layout()\n",
    "plt.show()"
   ]
  },
  {
   "cell_type": "markdown",
   "metadata": {},
   "source": [
    "## Biographical Characteristics Analysis\n",
    "### Height, weight and reach distribution\n"
   ]
  },
  {
   "cell_type": "code",
   "execution_count": 40,
   "metadata": {},
   "outputs": [
    {
     "data": {
      "image/png": "[encoded data removed]",
      "text/plain": [
       "<Figure size 1000x600 with 3 Axes>"
      ]
     },
     "metadata": {},
     "output_type": "display_data"
    }
   ],
   "source": [
    "# Plotting histograms for height, weight and reach\n",
    "plt.figure(figsize=(10, 6))\n",
    "\n",
    "plt.subplot(1, 3, 1)\n",
    "plt.hist(df.height_cm, bins=len(df.height_cm), color='blue', edgecolor='black')\n",
    "plt.title('Distribution of Height')\n",
    "plt.xlabel('Height (cm)')\n",
    "plt.ylabel('Frequency')\n",
    "\n",
    "\n",
    "plt.subplot(1, 3, 2)\n",
    "plt.hist(df.weight_in_kg, bins=len(df.weight_in_kg), color='red', edgecolor='black')\n",
    "plt.title('Distribution of Weight')\n",
    "plt.xlabel('Weight (kg)')\n",
    "plt.ylabel('Frequency')\n",
    "plt.xlim(35,200)\n",
    "\n",
    "plt.subplot(1, 3, 3)\n",
    "plt.hist(df['reach_in_cm'], bins=len(df.reach_in_cm), color='red', edgecolor='black')\n",
    "plt.title('Distribution of Reach')\n",
    "plt.xlabel('Reach (cm)')\n",
    "plt.ylabel('Frequency')\n",
    "\n",
    "plt.tight_layout()\n",
    "plt.show()"
   ]
  },
  {
   "cell_type": "markdown",
   "metadata": {},
   "source": [
    "### Correlation with Wins\n",
    "**Note**\n",
    "- A positive correlation value close to 1 indicates that as characteristic increases, the number of wins tends to increase.\n",
    "- A negative correlation value close to -1 suggests an inverse relationship (as characteristic increases, the number of wins tends to decrease).\n",
    "- A correlation value close to 0 indicates no linear relationship between the two."
   ]
  },
  {
   "cell_type": "code",
   "execution_count": 66,
   "metadata": {},
   "outputs": [
    {
     "name": "stdout",
     "output_type": "stream",
     "text": [
      "Height correlation: 0.018\n",
      "Weight correlation: -0.02\n",
      "Reach correlation: 0.123\n"
     ]
    }
   ],
   "source": [
    "# Calculate correlation between height and wins\n",
    "height_correlation = round(df.height_cm.corr(df.wins), 3)\n",
    "print(f\"Height correlation: {height_correlation}\")\n",
    "\n",
    "# Calculate correlation between weight and wins\n",
    "weight_correlation = round(df.weight_in_kg.corr(df.wins), 3)\n",
    "print(f\"Weight correlation: {weight_correlation}\")\n",
    "\n",
    "# Calculate correlation between reach and wins\n",
    "reach_correlation = round(df.reach_in_cm.corr(df.wins), 3)\n",
    "print(f\"Reach correlation: {reach_correlation}\")"
   ]
  },
  {
   "cell_type": "markdown",
   "metadata": {},
   "source": [
    "- There's almost no apparent linear relationship between height or weight and fighter performance metrics.\n",
    "- Reach shows a slightly more discernible positive correlation, indicating a modest tendency for fighters with greater reach to have slightly better performance metrics, though the relationship is still weak."
   ]
  },
  {
   "cell_type": "markdown",
   "metadata": {},
   "source": [
    "## Fighting Stance Comparison\n",
    "### Winning percentage for different fighting stances"
   ]
  },
  {
   "cell_type": "code",
   "execution_count": 80,
   "metadata": {},
   "outputs": [
    {
     "name": "stdout",
     "output_type": "stream",
     "text": [
      "Orthodox winning percentage: 76.82%\n",
      "Southpaw winning percentage: 17.04%\n",
      "Switch winning percentage: 5.84%\n",
      "Open Stance winning percentage: 0.21%\n",
      "Sideways winning percentage: 0.09%\n"
     ]
    }
   ],
   "source": [
    "# Calculate and print Orthodox winning % while handling NaN values\n",
    "orthodox_count = df.stance.value_counts().get('Orthodox',0)\n",
    "orthodox_win_percentage = round(orthodox_count/len(df.stance.dropna())*100, 2) \n",
    "print(f'Orthodox winning percentage: {orthodox_win_percentage}%')\n",
    "\n",
    "# Calculate and print Southpaw winning % while handling NaN values\n",
    "southpaw_count = df.stance.value_counts().get('Southpaw',0)\n",
    "southpaw_win_percentage = round(southpaw_count/len(df.stance.dropna())*100, 2) \n",
    "print(f'Southpaw winning percentage: {southpaw_win_percentage}%')\n",
    "\n",
    "# Calculate and print Switch winning % while handling NaN values\n",
    "switch_count = df.stance.value_counts().get('Switch',0)\n",
    "switch_win_percentage = round(switch_count/len(df.stance.dropna())*100, 2) \n",
    "print(f'Switch winning percentage: {switch_win_percentage}%')\n",
    "\n",
    "# Calculate and print Open Stance winning % while handling NaN values\n",
    "openstance_count = df.stance.value_counts().get('Open Stance',0)\n",
    "openstance_win_percentage = round(openstance_count/len(df.stance.dropna())*100, 2) \n",
    "print(f'Open Stance winning percentage: {openstance_win_percentage}%')\n",
    "\n",
    "# Calculate and print Sideways winning % while handling NaN values\n",
    "sideways_count = df.stance.value_counts().get('Sideways',0)\n",
    "sideways_win_percentage = round(sideways_count/len(df.stance.dropna())*100, 2) \n",
    "print(f'Sideways winning percentage: {sideways_win_percentage}%')"
   ]
  },
  {
   "cell_type": "code",
   "execution_count": 87,
   "metadata": {},
   "outputs": [
    {
     "name": "stdout",
     "output_type": "stream",
     "text": [
      "Orthodox correlation: 0.143\n",
      "Southpaw correlation: 0.096\n",
      "Switch correlation: -0.021\n",
      "Open Stance correlation: 0.013\n",
      "Sideways correlation: -0.03\n"
     ]
    }
   ],
   "source": [
    "#Calculate, round and print correlation for each stance\n",
    "stances = ['Orthodox', 'Southpaw', 'Switch', 'Open Stance', 'Sideways']\n",
    "\n",
    "for stance in stances:\n",
    "    correlation = round((df.stance == stance).corr(df.wins), 3)\n",
    "    print(f'{stance} correlation: {correlation}')\n",
    "\n"
   ]
  },
  {
   "cell_type": "markdown",
   "metadata": {},
   "source": [
    "## Outlier Detection\n",
    "### Identify outliers in different metrics"
   ]
  },
  {
   "cell_type": "code",
   "execution_count": null,
   "metadata": {},
   "outputs": [],
   "source": [
    "'''fighter_metrics_to_analyze = ['wins', 'losses', 'draws', 'height_cm', 'weight_in_kg', 'reach_in_cm', 'significant_strikes_landed_per_minute', 'significant_striking_accuracy', 'significant_strikes_absorbed_per_minute', 'significant_strike_defence', 'average_takedowns_landed_per_15_minutes', 'takedown_accuracy', 'takedown_defense', 'average_submissions_attempted_per_15_minutes']\n",
    "\n",
    "fighter_metrics = df[fighter_metrics_to_analyze]\n",
    "\n",
    "z_scores = stats.zscore(fighter_metrics)\n",
    "\n",
    "threshold = 3\n",
    "\n",
    "outliers_mask = (z_scores > threshold).any(axis=1)\n",
    "outliers = df[outliers_mask]\n",
    "\n",
    "print(outliers_mask)'''\n",
    "\n",
    "from scipy.stats import zscore\n",
    "\n",
    "# Select numerical columns for outlier detection\n",
    "numerical_columns = ['wins', 'losses', 'draws', 'height_cm', 'weight_in_kg', 'reach_in_cm', 'significant_strikes_landed_per_minute', 'significant_striking_accuracy', 'significant_strikes_absorbed_per_minute', 'significant_strike_defence', 'average_takedowns_landed_per_15_minutes', 'takedown_accuracy', 'takedown_defense', 'average_submissions_attempted_per_15_minutes']\n",
    "\n",
    "# Filter the DataFrame to include only the selected numerical columns\n",
    "numerical_data = df[numerical_columns]\n",
    "\n",
    "# Compute Z-scores for the numerical columns\n",
    "z_scores = zscore(numerical_data)\n",
    "\n",
    "# Define the threshold for outliers\n",
    "threshold = 3\n",
    "\n",
    "# Identify rows containing potential outliers based on Z-scores\n",
    "outliers_mask = (z_scores > threshold).any(axis=1)\n",
    "outliers = pd.concat([z_scores, df[outliers_mask]], axis=1)\n",
    "\n",
    "# Display the potential outliers\n",
    "outliers"
   ]
  },
  {
   "cell_type": "markdown",
   "metadata": {},
   "source": [
    "## Striking and takedown metrics"
   ]
  },
  {
   "cell_type": "code",
   "execution_count": 18,
   "metadata": {},
   "outputs": [
    {
     "name": "stdout",
     "output_type": "stream",
     "text": [
      "significant_strikes_landed_per_minute correlation: 0.151\n",
      "significant_striking_accuracy correlation: 0.236\n",
      "significant_strikes_absorbed_per_minute correlation: 0.031\n",
      "significant_strike_defence correlation: 0.292\n"
     ]
    }
   ],
   "source": [
    "striking_metrics = ['significant_strikes_landed_per_minute', 'significant_striking_accuracy', 'significant_strikes_absorbed_per_minute', 'significant_strike_defence']\n",
    "\n",
    "for metric in striking_metrics:\n",
    "    correlation = round((df[metric]).corr(df.wins), 3)\n",
    "    print(f'{metric} correlation: {correlation}')"
   ]
  },
  {
   "cell_type": "code",
   "execution_count": 19,
   "metadata": {},
   "outputs": [
    {
     "name": "stdout",
     "output_type": "stream",
     "text": [
      "average_takedowns_landed_per_15_minutes correlation: 0.073\n",
      "takedown_accuracy correlation: 0.192\n",
      "takedown_defense correlation: 0.24\n"
     ]
    }
   ],
   "source": [
    "takedown_metrics = ['average_takedowns_landed_per_15_minutes', 'takedown_accuracy', 'takedown_defense']\n",
    "\n",
    "for metric in takedown_metrics:\n",
    "    correlation = round((df[metric]).corr(df.wins), 3)\n",
    "    print(f'{metric} correlation: {correlation}')"
   ]
  }
 ],
 "metadata": {
  "kernelspec": {
   "display_name": "base",
   "language": "python",
   "name": "python3"
  },
  "language_info": {
   "codemirror_mode": {
    "name": "ipython",
    "version": 3
   },
   "file_extension": ".py",
   "mimetype": "text/x-python",
   "name": "python",
   "nbconvert_exporter": "python",
   "pygments_lexer": "ipython3",
   "version": "3.11.5"
  }
 },
 "nbformat": 4,
 "nbformat_minor": 2
}
